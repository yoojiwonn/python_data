{
 "cells": [
  {
   "cell_type": "markdown",
   "id": "94a28986",
   "metadata": {},
   "source": [
    "# 영화 관객수 예측"
   ]
  },
  {
   "cell_type": "code",
   "execution_count": 1,
   "id": "328d8e0a",
   "metadata": {},
   "outputs": [],
   "source": [
    "import pandas as pd\n",
    "import numpy as np\n",
    "import seaborn as sns\n",
    "import matplotlib.pyplot as plt\n",
    "import re\n",
    "import warnings\n",
    "warnings.filterwarnings('ignore')"
   ]
  },
  {
   "cell_type": "code",
   "execution_count": 2,
   "id": "1e065c9c",
   "metadata": {},
   "outputs": [],
   "source": [
    "train = pd.read_csv(\"./data/movies_train.csv\")\n",
    "test = pd.read_csv('./data/movies_test.csv')"
   ]
  },
  {
   "cell_type": "markdown",
   "id": "f7cb02cf",
   "metadata": {},
   "source": [
    "# 배급사 전처리"
   ]
  },
  {
   "cell_type": "code",
   "execution_count": 3,
   "id": "f820644a",
   "metadata": {},
   "outputs": [],
   "source": [
    "train['distributor'] = train.distributor.str.replace(\"(주)\", '')\n",
    "test['distributor'] = test.distributor.str.replace(\"(주)\", '')"
   ]
  },
  {
   "cell_type": "code",
   "execution_count": 4,
   "id": "89fe6619",
   "metadata": {},
   "outputs": [],
   "source": [
    "def get_dis(x) :\n",
    "    if 'CJ' in x or 'CGV' in x :\n",
    "        return 'CJ'\n",
    "    elif '쇼박스' in x :\n",
    "        return '쇼박스'\n",
    "    elif 'SK' in x :\n",
    "        return 'SK'\n",
    "    elif '리틀빅픽' in x :\n",
    "        return '리틀빅픽처스'\n",
    "    elif '스폰지' in x :\n",
    "        return '스폰지'\n",
    "    elif '싸이더스' in x :\n",
    "        return '싸이더스'\n",
    "    elif '에이원' in x :\n",
    "        return '에이원'\n",
    "    elif '마인스' in x :\n",
    "        return '마인스'\n",
    "    elif '마운틴픽' in x :\n",
    "        return '마운틴픽처스'\n",
    "    elif '디씨드' in x :\n",
    "        return '디씨드'\n",
    "    elif '드림팩트' in x :\n",
    "        return '드림팩트'\n",
    "    elif '메가박스' in x :\n",
    "        return '메가박스'\n",
    "    elif '마운틴' in x :\n",
    "        return '마운틴'\n",
    "    else :\n",
    "        return x"
   ]
  },
  {
   "cell_type": "code",
   "execution_count": 5,
   "id": "de8246c3",
   "metadata": {},
   "outputs": [],
   "source": [
    "train['distributor'] = train.distributor.apply(get_dis)\n",
    "test['distributor'] = test.distributor.apply(get_dis)"
   ]
  },
  {
   "cell_type": "code",
   "execution_count": 6,
   "id": "4406ecc8",
   "metadata": {},
   "outputs": [
    {
     "data": {
      "text/plain": [
       "genre\n",
       "뮤지컬       6.627000e+03\n",
       "다큐멘터리     6.717226e+04\n",
       "서스펜스      8.261100e+04\n",
       "애니메이션     1.819267e+05\n",
       "멜로/로맨스    4.259680e+05\n",
       "미스터리      5.275482e+05\n",
       "공포        5.908325e+05\n",
       "드라마       6.256898e+05\n",
       "코미디       1.193914e+06\n",
       "SF        1.788346e+06\n",
       "액션        2.203974e+06\n",
       "느와르       2.263695e+06\n",
       "Name: box_off_num, dtype: float64"
      ]
     },
     "execution_count": 6,
     "metadata": {},
     "output_type": "execute_result"
    }
   ],
   "source": [
    "train.groupby('genre').box_off_num.mean().sort_values()"
   ]
  },
  {
   "cell_type": "markdown",
   "id": "1c671deb",
   "metadata": {},
   "source": [
    "# 장르별 영화 관객수 평균값으로 랭크 인코딩"
   ]
  },
  {
   "cell_type": "code",
   "execution_count": 7,
   "id": "2617be22",
   "metadata": {},
   "outputs": [
    {
     "data": {
      "text/plain": [
       "genre\n",
       "뮤지컬       6.627000e+03\n",
       "다큐멘터리     6.717226e+04\n",
       "서스펜스      8.261100e+04\n",
       "애니메이션     1.819267e+05\n",
       "멜로/로맨스    4.259680e+05\n",
       "미스터리      5.275482e+05\n",
       "공포        5.908325e+05\n",
       "드라마       6.256898e+05\n",
       "코미디       1.193914e+06\n",
       "SF        1.788346e+06\n",
       "액션        2.203974e+06\n",
       "느와르       2.263695e+06\n",
       "Name: box_off_num, dtype: float64"
      ]
     },
     "execution_count": 7,
     "metadata": {},
     "output_type": "execute_result"
    }
   ],
   "source": [
    "train.groupby('genre').box_off_num.mean().sort_values()"
   ]
  },
  {
   "cell_type": "code",
   "execution_count": 8,
   "id": "4d0800c8",
   "metadata": {},
   "outputs": [],
   "source": [
    "train['genre_rank'] = train.genre.map({'뮤지컬' : 1, '다큐멘터리' : 2, '서스펜스' : 3, '애니메이션' : 4, '멜로/로맨스' : 5,\n",
    "                                      '미스터리' : 6, '공포' : 7, '드라마' : 8, '코미디' : 9, 'SF' : 10, '액션' : 11, '느와르' : 12})\n",
    "test['genre_rank'] = test.genre.map({'뮤지컬' : 1, '다큐멘터리' : 2, '서스펜스' : 3, '애니메이션' : 4, '멜로/로맨스' : 5,\n",
    "                                      '미스터리' : 6, '공포' : 7, '드라마' : 8, '코미디' : 9, 'SF' : 10, '액션' : 11, '느와르' : 12})"
   ]
  },
  {
   "cell_type": "code",
   "execution_count": 9,
   "id": "7d370087",
   "metadata": {},
   "outputs": [
    {
     "data": {
      "text/html": [
       "<div>\n",
       "<style scoped>\n",
       "    .dataframe tbody tr th:only-of-type {\n",
       "        vertical-align: middle;\n",
       "    }\n",
       "\n",
       "    .dataframe tbody tr th {\n",
       "        vertical-align: top;\n",
       "    }\n",
       "\n",
       "    .dataframe thead th {\n",
       "        text-align: right;\n",
       "    }\n",
       "</style>\n",
       "<table border=\"1\" class=\"dataframe\">\n",
       "  <thead>\n",
       "    <tr style=\"text-align: right;\">\n",
       "      <th></th>\n",
       "      <th>distributor</th>\n",
       "      <th>num_rank</th>\n",
       "    </tr>\n",
       "  </thead>\n",
       "  <tbody>\n",
       "    <tr>\n",
       "      <th>125</th>\n",
       "      <td>인피니티엔터테인먼트</td>\n",
       "      <td>2.0</td>\n",
       "    </tr>\n",
       "    <tr>\n",
       "      <th>51</th>\n",
       "      <td>고구마공작소</td>\n",
       "      <td>8.0</td>\n",
       "    </tr>\n",
       "    <tr>\n",
       "      <th>79</th>\n",
       "      <td>사람과 사람들</td>\n",
       "      <td>42.0</td>\n",
       "    </tr>\n",
       "    <tr>\n",
       "      <th>115</th>\n",
       "      <td>위드시네마</td>\n",
       "      <td>46.0</td>\n",
       "    </tr>\n",
       "    <tr>\n",
       "      <th>54</th>\n",
       "      <td>나우콘텐츠</td>\n",
       "      <td>54.0</td>\n",
       "    </tr>\n",
       "    <tr>\n",
       "      <th>...</th>\n",
       "      <td>...</td>\n",
       "      <td>...</td>\n",
       "    </tr>\n",
       "    <tr>\n",
       "      <th>128</th>\n",
       "      <td>전망좋은영화사</td>\n",
       "      <td>1214237.0</td>\n",
       "    </tr>\n",
       "    <tr>\n",
       "      <th>120</th>\n",
       "      <td>이십세기폭스코리아()</td>\n",
       "      <td>1422844.0</td>\n",
       "    </tr>\n",
       "    <tr>\n",
       "      <th>83</th>\n",
       "      <td>쇼박스</td>\n",
       "      <td>2138560.0</td>\n",
       "    </tr>\n",
       "    <tr>\n",
       "      <th>105</th>\n",
       "      <td>영구아트무비</td>\n",
       "      <td>2541603.0</td>\n",
       "    </tr>\n",
       "    <tr>\n",
       "      <th>21</th>\n",
       "      <td>()아이필름코퍼레이션</td>\n",
       "      <td>3117859.0</td>\n",
       "    </tr>\n",
       "  </tbody>\n",
       "</table>\n",
       "<p>152 rows × 2 columns</p>\n",
       "</div>"
      ],
      "text/plain": [
       "     distributor   num_rank\n",
       "125   인피니티엔터테인먼트        2.0\n",
       "51        고구마공작소        8.0\n",
       "79       사람과 사람들       42.0\n",
       "115        위드시네마       46.0\n",
       "54         나우콘텐츠       54.0\n",
       "..           ...        ...\n",
       "128      전망좋은영화사  1214237.0\n",
       "120  이십세기폭스코리아()  1422844.0\n",
       "83           쇼박스  2138560.0\n",
       "105       영구아트무비  2541603.0\n",
       "21   ()아이필름코퍼레이션  3117859.0\n",
       "\n",
       "[152 rows x 2 columns]"
      ]
     },
     "execution_count": 9,
     "metadata": {},
     "output_type": "execute_result"
    }
   ],
   "source": [
    "tr_nm_rank = train.groupby('distributor').box_off_num.median().reset_index(name = 'num_rank').sort_values(by = 'num_rank')\n",
    "tr_nm_rank"
   ]
  },
  {
   "cell_type": "code",
   "execution_count": 10,
   "id": "f0a812f2",
   "metadata": {},
   "outputs": [
    {
     "data": {
      "text/html": [
       "<div>\n",
       "<style scoped>\n",
       "    .dataframe tbody tr th:only-of-type {\n",
       "        vertical-align: middle;\n",
       "    }\n",
       "\n",
       "    .dataframe tbody tr th {\n",
       "        vertical-align: top;\n",
       "    }\n",
       "\n",
       "    .dataframe thead th {\n",
       "        text-align: right;\n",
       "    }\n",
       "</style>\n",
       "<table border=\"1\" class=\"dataframe\">\n",
       "  <thead>\n",
       "    <tr style=\"text-align: right;\">\n",
       "      <th></th>\n",
       "      <th>distributor</th>\n",
       "      <th>num_rank</th>\n",
       "    </tr>\n",
       "  </thead>\n",
       "  <tbody>\n",
       "    <tr>\n",
       "      <th>125</th>\n",
       "      <td>인피니티엔터테인먼트</td>\n",
       "      <td>1</td>\n",
       "    </tr>\n",
       "    <tr>\n",
       "      <th>51</th>\n",
       "      <td>고구마공작소</td>\n",
       "      <td>2</td>\n",
       "    </tr>\n",
       "    <tr>\n",
       "      <th>79</th>\n",
       "      <td>사람과 사람들</td>\n",
       "      <td>3</td>\n",
       "    </tr>\n",
       "    <tr>\n",
       "      <th>115</th>\n",
       "      <td>위드시네마</td>\n",
       "      <td>4</td>\n",
       "    </tr>\n",
       "    <tr>\n",
       "      <th>54</th>\n",
       "      <td>나우콘텐츠</td>\n",
       "      <td>5</td>\n",
       "    </tr>\n",
       "    <tr>\n",
       "      <th>...</th>\n",
       "      <td>...</td>\n",
       "      <td>...</td>\n",
       "    </tr>\n",
       "    <tr>\n",
       "      <th>128</th>\n",
       "      <td>전망좋은영화사</td>\n",
       "      <td>148</td>\n",
       "    </tr>\n",
       "    <tr>\n",
       "      <th>120</th>\n",
       "      <td>이십세기폭스코리아()</td>\n",
       "      <td>149</td>\n",
       "    </tr>\n",
       "    <tr>\n",
       "      <th>83</th>\n",
       "      <td>쇼박스</td>\n",
       "      <td>150</td>\n",
       "    </tr>\n",
       "    <tr>\n",
       "      <th>105</th>\n",
       "      <td>영구아트무비</td>\n",
       "      <td>151</td>\n",
       "    </tr>\n",
       "    <tr>\n",
       "      <th>21</th>\n",
       "      <td>()아이필름코퍼레이션</td>\n",
       "      <td>152</td>\n",
       "    </tr>\n",
       "  </tbody>\n",
       "</table>\n",
       "<p>152 rows × 2 columns</p>\n",
       "</div>"
      ],
      "text/plain": [
       "     distributor  num_rank\n",
       "125   인피니티엔터테인먼트         1\n",
       "51        고구마공작소         2\n",
       "79       사람과 사람들         3\n",
       "115        위드시네마         4\n",
       "54         나우콘텐츠         5\n",
       "..           ...       ...\n",
       "128      전망좋은영화사       148\n",
       "120  이십세기폭스코리아()       149\n",
       "83           쇼박스       150\n",
       "105       영구아트무비       151\n",
       "21   ()아이필름코퍼레이션       152\n",
       "\n",
       "[152 rows x 2 columns]"
      ]
     },
     "execution_count": 10,
     "metadata": {},
     "output_type": "execute_result"
    }
   ],
   "source": [
    "tr_nm_rank['num_rank'] = [i + 1 for i in range(tr_nm_rank.shape[0])]\n",
    "tr_nm_rank"
   ]
  },
  {
   "cell_type": "code",
   "execution_count": 11,
   "id": "55b26d9b",
   "metadata": {},
   "outputs": [],
   "source": [
    "train = pd.merge(train, tr_nm_rank, how = 'left')"
   ]
  },
  {
   "cell_type": "code",
   "execution_count": 12,
   "id": "31563e52",
   "metadata": {},
   "outputs": [],
   "source": [
    "test = pd.merge(test, tr_nm_rank, how = 'left')"
   ]
  },
  {
   "cell_type": "code",
   "execution_count": 13,
   "id": "6b8a29f7",
   "metadata": {},
   "outputs": [],
   "source": [
    "test.fillna(0, inplace = True)"
   ]
  },
  {
   "cell_type": "markdown",
   "id": "1ae823fd",
   "metadata": {},
   "source": [
    "# 모델링 데이터 구성\n",
    "### 타겟 값인 관객수를 로그변환\n",
    "### 상영등급은 더미 변수\n",
    "### 출연 배우 수는 로그변환"
   ]
  },
  {
   "cell_type": "code",
   "execution_count": 41,
   "id": "549a1c3d",
   "metadata": {},
   "outputs": [],
   "source": [
    "from sklearn.ensemble import GradientBoostingRegressor, RandomForestRegressor\n",
    "from xgboost import XGBRegressor\n",
    "from lightgbm import LGBMRegressor\n",
    "from catboost import CatBoostRegressor\n",
    "from sklearn.metrics import mean_squared_error\n",
    "from sklearn.model_selection import KFold\n",
    "from ngboost import NGBRegressor"
   ]
  },
  {
   "cell_type": "code",
   "execution_count": 42,
   "id": "3016c1b7",
   "metadata": {},
   "outputs": [],
   "source": [
    "X = train[['num_rank', 'time', 'num_staff', 'num_actor', 'genre_rank', 'screening_rat']]\n",
    "y = np.log1p(train.box_off_num)"
   ]
  },
  {
   "cell_type": "code",
   "execution_count": 43,
   "id": "99db40e2",
   "metadata": {},
   "outputs": [],
   "source": [
    "X = pd.get_dummies(columns = ['screening_rat'], data = X)"
   ]
  },
  {
   "cell_type": "code",
   "execution_count": 44,
   "id": "bb3b52b2",
   "metadata": {},
   "outputs": [],
   "source": [
    "X['num_actor'] = np.log1p(X['num_actor'])"
   ]
  },
  {
   "cell_type": "code",
   "execution_count": 45,
   "id": "40c1ea72",
   "metadata": {},
   "outputs": [],
   "source": [
    "target = test[['num_rank', 'time', 'num_staff', 'num_actor', 'genre_rank', 'screening_rat']]"
   ]
  },
  {
   "cell_type": "code",
   "execution_count": 46,
   "id": "b84a81f4",
   "metadata": {},
   "outputs": [],
   "source": [
    "target = pd.get_dummies(columns = ['screening_rat'], data = target)"
   ]
  },
  {
   "cell_type": "code",
   "execution_count": 47,
   "id": "18923393",
   "metadata": {},
   "outputs": [],
   "source": [
    "target['num_actor'] = np.log1p(target['num_actor'])"
   ]
  },
  {
   "cell_type": "code",
   "execution_count": 48,
   "id": "d6bd3369",
   "metadata": {},
   "outputs": [],
   "source": [
    "kf = KFold(n_splits =  10, shuffle = True, random_state = 42)"
   ]
  },
  {
   "cell_type": "code",
   "execution_count": 49,
   "id": "856c6b21",
   "metadata": {},
   "outputs": [],
   "source": [
    "gbm = GradientBoostingRegressor(random_state = 42)"
   ]
  },
  {
   "cell_type": "code",
   "execution_count": 50,
   "id": "e29a7a24",
   "metadata": {},
   "outputs": [],
   "source": [
    "rmse_list = []\n",
    "gb_pred = np.zeros((test.shape[0]))\n",
    "for tr_idx, val_idx in kf.split(X, y) :\n",
    "    tr_x, tr_y = X.iloc[tr_idx], y.iloc[tr_idx]\n",
    "    val_x, val_y = X.iloc[val_idx], y.iloc[val_idx]\n",
    "    \n",
    "    gbm.fit(tr_x, tr_y)\n",
    "    \n",
    "    pred = np.expm1([0 if x < 0 else x for x in gbm.predict(val_x)])\n",
    "    sub_pred = np.expm1([0 if x < 0 else x for x in gbm.predict(target)])\n",
    "    rmse = np.sqrt(mean_squared_error(val_y, pred))\n",
    "    \n",
    "    rmse_list.append(rmse)\n",
    "    \n",
    "    gb_pred += (sub_pred / 10)"
   ]
  },
  {
   "cell_type": "code",
   "execution_count": 51,
   "id": "ced5c7a9",
   "metadata": {},
   "outputs": [
    {
     "data": {
      "text/plain": [
       "1136799.2172945936"
      ]
     },
     "execution_count": 51,
     "metadata": {},
     "output_type": "execute_result"
    }
   ],
   "source": [
    "np.mean(rmse_list)"
   ]
  },
  {
   "cell_type": "code",
   "execution_count": 52,
   "id": "351c7cc0",
   "metadata": {},
   "outputs": [],
   "source": [
    "ngb = NGBRegressor(random_state = 518)"
   ]
  },
  {
   "cell_type": "code",
   "execution_count": 53,
   "id": "ab755c8d",
   "metadata": {},
   "outputs": [
    {
     "name": "stdout",
     "output_type": "stream",
     "text": [
      "[iter 0] loss=2.6200 val_loss=0.0000 scale=1.0000 norm=2.9523\n",
      "[iter 100] loss=1.9644 val_loss=0.0000 scale=2.0000 norm=2.7260\n",
      "[iter 200] loss=1.5825 val_loss=0.0000 scale=2.0000 norm=2.1835\n",
      "[iter 300] loss=1.4500 val_loss=0.0000 scale=1.0000 norm=1.0474\n",
      "[iter 400] loss=1.3739 val_loss=0.0000 scale=0.5000 norm=0.5079\n",
      "[iter 0] loss=1.4009 val_loss=0.0000 scale=1.0000 norm=1.0662\n",
      "[iter 100] loss=1.3241 val_loss=0.0000 scale=1.0000 norm=1.0043\n",
      "[iter 200] loss=1.2820 val_loss=0.0000 scale=0.5000 norm=0.4906\n",
      "[iter 300] loss=1.2505 val_loss=0.0000 scale=1.0000 norm=0.9651\n",
      "[iter 400] loss=1.2216 val_loss=0.0000 scale=1.0000 norm=0.9517\n",
      "[iter 0] loss=1.2099 val_loss=0.0000 scale=1.0000 norm=0.9445\n",
      "[iter 100] loss=1.1605 val_loss=0.0000 scale=0.5000 norm=0.4573\n",
      "[iter 200] loss=1.1382 val_loss=0.0000 scale=0.2500 norm=0.2258\n",
      "[iter 300] loss=1.1248 val_loss=0.0000 scale=0.2500 norm=0.2244\n",
      "[iter 400] loss=1.1109 val_loss=0.0000 scale=0.2500 norm=0.2221\n",
      "[iter 0] loss=1.1543 val_loss=0.0000 scale=1.0000 norm=0.9199\n",
      "[iter 100] loss=1.1202 val_loss=0.0000 scale=1.0000 norm=0.8930\n",
      "[iter 200] loss=1.0866 val_loss=0.0000 scale=0.5000 norm=0.4350\n",
      "[iter 300] loss=1.0582 val_loss=0.0000 scale=0.5000 norm=0.4268\n",
      "[iter 400] loss=1.0320 val_loss=0.0000 scale=0.5000 norm=0.4207\n",
      "[iter 0] loss=1.0559 val_loss=0.0000 scale=1.0000 norm=0.8704\n",
      "[iter 100] loss=1.0029 val_loss=0.0000 scale=0.5000 norm=0.4175\n",
      "[iter 200] loss=0.9717 val_loss=0.0000 scale=0.2500 norm=0.2053\n",
      "[iter 300] loss=0.9489 val_loss=0.0000 scale=0.2500 norm=0.2030\n",
      "[iter 400] loss=0.9297 val_loss=0.0000 scale=0.5000 norm=0.4021\n",
      "[iter 0] loss=1.0749 val_loss=0.0000 scale=1.0000 norm=0.9505\n",
      "[iter 100] loss=0.9123 val_loss=0.0000 scale=0.5000 norm=0.3988\n",
      "[iter 200] loss=0.8831 val_loss=0.0000 scale=1.0000 norm=0.7834\n",
      "[iter 300] loss=0.8624 val_loss=0.0000 scale=1.0000 norm=0.7764\n",
      "[iter 400] loss=0.8448 val_loss=0.0000 scale=0.2500 norm=0.1925\n",
      "[iter 0] loss=0.8889 val_loss=0.0000 scale=0.2500 norm=0.2023\n",
      "[iter 100] loss=0.8666 val_loss=0.0000 scale=0.5000 norm=0.3929\n",
      "[iter 200] loss=0.8628 val_loss=0.0000 scale=0.0020 norm=0.0015\n",
      "[iter 300] loss=0.8628 val_loss=0.0000 scale=0.0020 norm=0.0015\n",
      "[iter 400] loss=0.8623 val_loss=0.0000 scale=0.0020 norm=0.0015\n",
      "[iter 0] loss=0.8374 val_loss=0.0000 scale=0.5000 norm=0.3883\n",
      "[iter 100] loss=0.8143 val_loss=0.0000 scale=0.1250 norm=0.0950\n",
      "[iter 200] loss=0.8070 val_loss=0.0000 scale=0.5000 norm=0.3777\n",
      "[iter 300] loss=0.7973 val_loss=0.0000 scale=0.2500 norm=0.1878\n",
      "[iter 400] loss=0.7874 val_loss=0.0000 scale=0.2500 norm=0.1869\n",
      "[iter 0] loss=0.8391 val_loss=0.0000 scale=0.5000 norm=0.3885\n",
      "[iter 100] loss=0.8145 val_loss=0.0000 scale=0.2500 norm=0.1887\n",
      "[iter 200] loss=0.8056 val_loss=0.0000 scale=0.0625 norm=0.0466\n",
      "[iter 300] loss=0.7997 val_loss=0.0000 scale=0.0156 norm=0.0116\n",
      "[iter 400] loss=0.7976 val_loss=0.0000 scale=0.0020 norm=0.0014\n",
      "[iter 0] loss=0.8051 val_loss=0.0000 scale=0.5000 norm=0.3738\n",
      "[iter 100] loss=0.7864 val_loss=0.0000 scale=0.0020 norm=0.0014\n",
      "[iter 200] loss=0.7856 val_loss=0.0000 scale=0.0039 norm=0.0029\n",
      "[iter 300] loss=0.7849 val_loss=0.0000 scale=0.0010 norm=0.0007\n",
      "[iter 400] loss=0.7841 val_loss=0.0000 scale=0.0010 norm=0.0007\n"
     ]
    }
   ],
   "source": [
    "rmse_list = []\n",
    "ngb_pred = np.zeros((test.shape[0]))\n",
    "for tr_idx, val_idx in kf.split(X, y) :\n",
    "    tr_x, tr_y = X.iloc[tr_idx], y.iloc[tr_idx]\n",
    "    val_x, val_y = X.iloc[val_idx], y.iloc[val_idx]\n",
    "    \n",
    "    ngb.fit(tr_x, tr_y)\n",
    "    \n",
    "    pred = np.expm1([0 if x < 0 else x for x in ngb.predict(val_x)])\n",
    "    sub_pred = np.expm1([0 if x < 0 else x for x in ngb.predict(target)])\n",
    "    rmse = np.sqrt(mean_squared_error(val_y, pred))\n",
    "    \n",
    "    rmse_list.append(rmse)\n",
    "    \n",
    "    ngb_pred += (sub_pred / 10)"
   ]
  },
  {
   "cell_type": "code",
   "execution_count": 54,
   "id": "adf97055",
   "metadata": {},
   "outputs": [
    {
     "data": {
      "text/plain": [
       "1445085.6307961675"
      ]
     },
     "execution_count": 54,
     "metadata": {},
     "output_type": "execute_result"
    }
   ],
   "source": [
    "np.mean(rmse_list)"
   ]
  },
  {
   "cell_type": "code",
   "execution_count": 55,
   "id": "7b13cbd9",
   "metadata": {},
   "outputs": [],
   "source": [
    "lgbm = LGBMRegressor(random_state = 518)"
   ]
  },
  {
   "cell_type": "code",
   "execution_count": 56,
   "id": "b362daac",
   "metadata": {},
   "outputs": [],
   "source": [
    "rmse_list = []\n",
    "lgb_pred = np.zeros((test.shape[0]))\n",
    "for tr_idx, val_idx in kf.split(X, y) :\n",
    "    tr_x, tr_y = X.iloc[tr_idx], y.iloc[tr_idx]\n",
    "    val_x, val_y = X.iloc[val_idx], y.iloc[val_idx]\n",
    "    \n",
    "    lgbm.fit(tr_x, tr_y)\n",
    "    \n",
    "    pred = np.expm1([0 if x < 0 else x for x in lgbm.predict(val_x)])\n",
    "    sub_pred = np.expm1([0 if x < 0 else x for x in lgbm.predict(target)])\n",
    "    rmse = np.sqrt(mean_squared_error(val_y, pred))\n",
    "    \n",
    "    rmse_list.append(rmse)\n",
    "    \n",
    "    lgb_pred += (sub_pred / 10)"
   ]
  },
  {
   "cell_type": "code",
   "execution_count": 57,
   "id": "ef91c89e",
   "metadata": {},
   "outputs": [
    {
     "data": {
      "text/plain": [
       "1155679.240289382"
      ]
     },
     "execution_count": 57,
     "metadata": {},
     "output_type": "execute_result"
    }
   ],
   "source": [
    "np.mean(rmse_list)"
   ]
  },
  {
   "cell_type": "code",
   "execution_count": 58,
   "id": "2936e7ce",
   "metadata": {},
   "outputs": [],
   "source": [
    "xgb = XGBRegressor(random_state = 518)"
   ]
  },
  {
   "cell_type": "code",
   "execution_count": 59,
   "id": "119bf3c9",
   "metadata": {},
   "outputs": [],
   "source": [
    "rmse_list = []\n",
    "xgb_pred = np.zeros((test.shape[0]))\n",
    "for tr_idx, val_idx in kf.split(X, y) :\n",
    "    tr_x, tr_y = X.iloc[tr_idx], y.iloc[tr_idx]\n",
    "    val_x, val_y = X.iloc[val_idx], y.iloc[val_idx]\n",
    "    \n",
    "    xgb.fit(tr_x, tr_y)\n",
    "    \n",
    "    pred = np.expm1([0 if x < 0 else x for x in xgb.predict(val_x)])\n",
    "    sub_pred = np.expm1([0 if x < 0 else x for x in xgb.predict(target)])\n",
    "    rmse = np.sqrt(mean_squared_error(val_y, pred))\n",
    "    \n",
    "    rmse_list.append(rmse)\n",
    "    \n",
    "    xgb_pred += (sub_pred / 10)"
   ]
  },
  {
   "cell_type": "code",
   "execution_count": 60,
   "id": "d8e96301",
   "metadata": {},
   "outputs": [],
   "source": [
    "cat = CatBoostRegressor(random_state = 518, silent = True)"
   ]
  },
  {
   "cell_type": "code",
   "execution_count": 61,
   "id": "7ab4ee22",
   "metadata": {},
   "outputs": [],
   "source": [
    "rmse_list = []\n",
    "cat_pred = np.zeros((test.shape[0]))\n",
    "for tr_idx, val_idx in kf.split(X, y) :\n",
    "    tr_x, tr_y = X.iloc[tr_idx], y.iloc[tr_idx]\n",
    "    val_x, val_y = X.iloc[val_idx], y.iloc[val_idx]\n",
    "    \n",
    "    cat.fit(tr_x, tr_y)\n",
    "    \n",
    "    pred = np.expm1([0 if x < 0 else x for x in cat.predict(val_x)])\n",
    "    sub_pred = np.expm1([0 if x < 0 else x for x in cat.predict(target)])\n",
    "    rmse = np.sqrt(mean_squared_error(val_y, pred))\n",
    "    \n",
    "    rmse_list.append(rmse)\n",
    "    \n",
    "    cat_pred += (sub_pred / 10)"
   ]
  },
  {
   "cell_type": "code",
   "execution_count": 62,
   "id": "0bf5f0f9",
   "metadata": {},
   "outputs": [],
   "source": [
    "rf = RandomForestRegressor(random_state = 518)"
   ]
  },
  {
   "cell_type": "code",
   "execution_count": 63,
   "id": "389eb322",
   "metadata": {},
   "outputs": [],
   "source": [
    "rmse_list = []\n",
    "rf_pred = np.zeros((test.shape[0]))\n",
    "for tr_idx, val_idx in kf.split(X, y) :\n",
    "    tr_x, tr_y = X.iloc[tr_idx], y.iloc[tr_idx]\n",
    "    val_x, val_y = X.iloc[val_idx], y.iloc[val_idx]\n",
    "    \n",
    "    rf.fit(tr_x, tr_y)\n",
    "    \n",
    "    pred = np.expm1([0 if x < 0 else x for x in rf.predict(val_x)])\n",
    "    sub_pred = np.expm1([0 if x < 0 else x for x in rf.predict(target)])\n",
    "    rmse = np.sqrt(mean_squared_error(val_y, pred))\n",
    "    \n",
    "    rmse_list.append(rmse)\n",
    "    \n",
    "    rf_pred += (sub_pred / 10)"
   ]
  },
  {
   "cell_type": "code",
   "execution_count": 64,
   "id": "32e55ad5",
   "metadata": {},
   "outputs": [
    {
     "data": {
      "text/plain": [
       "870860.0449658377"
      ]
     },
     "execution_count": 64,
     "metadata": {},
     "output_type": "execute_result"
    }
   ],
   "source": [
    "np.mean(rmse_list)"
   ]
  },
  {
   "cell_type": "code",
   "execution_count": 65,
   "id": "fcde4d39",
   "metadata": {},
   "outputs": [
    {
     "data": {
      "text/plain": [
       "array([1.17486862e+06, 2.03849083e+06, 8.02574174e+05, 2.21538085e+06,\n",
       "       1.85251960e+06, 5.63032078e+01, 1.65875705e+03, 3.06949317e+01,\n",
       "       2.67927158e+03, 1.39187497e+02, 1.25984360e+05, 5.57432110e+05,\n",
       "       2.44960028e+02, 2.09397117e+03, 4.20699745e+05, 1.82280893e+06,\n",
       "       2.27597771e+03, 2.07013152e+06, 1.09492336e+05, 3.24728393e+05,\n",
       "       3.65864978e+01, 1.79137898e+03, 8.08519383e+03, 9.66380052e+01,\n",
       "       5.73856442e+01, 6.83021632e+05, 1.49781240e+03, 1.16718922e+06,\n",
       "       8.31561710e+03, 4.77240125e+01, 8.04693915e+05, 8.54334510e+04,\n",
       "       3.63831944e+03, 3.92341109e+03, 3.18652905e+03, 2.02489437e+03,\n",
       "       1.30845960e+03, 2.97248447e+03, 2.34680268e+03, 1.36943078e+01,\n",
       "       4.97629091e+01, 3.95404451e+04, 7.82133529e+05, 1.61557810e+05,\n",
       "       2.35918395e+05, 7.34982090e+05, 3.83489129e+01, 5.59283736e+01,\n",
       "       4.09062175e+04, 2.16713841e+02, 1.10714742e+03, 1.00799932e+06,\n",
       "       3.57158534e+03, 7.58231577e+05, 1.15800423e+06, 1.31805363e+02,\n",
       "       3.43088745e+03, 6.73910532e+05, 9.86755987e+05, 3.58439200e+06,\n",
       "       5.44167517e+05, 3.99193129e+06, 4.96278873e+03, 4.04959162e+02,\n",
       "       7.51583493e+03, 2.70969394e+01, 7.50498953e+05, 8.89674669e+03,\n",
       "       2.58179295e+05, 7.24310773e+03, 1.19853465e+06, 2.47381288e+05,\n",
       "       1.06142121e+02, 6.48655612e+05, 3.96464713e+02, 6.26814716e+02,\n",
       "       9.94144476e+05, 1.27364268e+05, 8.85326392e+04, 3.20913295e+03,\n",
       "       1.25772131e+04, 3.19190243e+06, 2.34204487e+03, 2.13530776e+06,\n",
       "       1.39509212e+03, 1.53427161e+06, 1.55376447e+03, 8.74898090e+03,\n",
       "       1.92958434e+03, 6.73720621e+04, 9.28499758e+02, 2.07603725e+03,\n",
       "       2.51636670e+05, 7.70875971e+05, 1.21353147e+05, 4.70732223e+01,\n",
       "       1.37420805e+04, 3.62153341e+01, 4.55297684e+05, 2.08369679e+05,\n",
       "       5.98027542e+05, 1.40548208e+06, 3.97938696e+03, 1.05427770e+04,\n",
       "       6.63260463e+05, 6.55000171e+04, 3.81831691e+06, 3.37736382e+04,\n",
       "       2.45810978e+06, 3.05009054e+03, 1.81034524e+03, 1.02676899e+06,\n",
       "       1.29911045e+06, 2.53345640e+03, 9.65308520e+03, 6.38623918e+05,\n",
       "       6.13644288e+03, 1.55624668e+06, 1.93066206e+03, 9.89570139e+04,\n",
       "       7.08160135e+02, 3.80340271e+05, 5.79555606e+05, 9.64780840e+02,\n",
       "       3.58923127e+01, 4.32393277e+02, 6.07922361e+02, 1.86281834e+04,\n",
       "       3.56694880e+04, 2.91122183e+03, 1.13763821e+01, 5.33085804e+05,\n",
       "       4.73452610e+02, 1.67629925e+02, 1.48196008e+06, 4.79602153e+06,\n",
       "       3.20345645e+02, 8.43846328e+05, 7.95761439e+04, 2.17749536e+01,\n",
       "       9.68948521e+02, 1.31461403e+06, 5.28965330e+06, 5.39089384e+01,\n",
       "       2.08304667e+03, 3.42082830e+04, 3.79677134e+03, 1.75325798e+03,\n",
       "       1.66941021e+06, 1.26540530e+06, 4.56080342e+03, 1.77991645e+03,\n",
       "       3.15037551e+01, 5.95402426e+03, 9.75122687e+02, 1.56416344e+02,\n",
       "       2.72782327e+03, 8.08861724e+04, 1.97441237e+06, 1.77702490e+06,\n",
       "       2.47250342e+04, 6.12612727e+05, 5.96881143e+04, 3.54169798e+05,\n",
       "       4.02497433e+02, 6.26695130e+02, 1.26054562e+06, 2.74086230e+01,\n",
       "       1.08924905e+03, 3.52817074e+03, 8.47853616e+02, 1.57515208e+03,\n",
       "       8.65325552e+02, 2.20513483e+01, 1.59463247e+03, 1.33690056e+04,\n",
       "       2.83531625e+01, 1.54918828e+03, 6.70687176e+06, 6.46542079e+06,\n",
       "       1.19207899e+04, 4.92239890e+02, 7.56216317e+02, 5.69467398e+03,\n",
       "       9.07546342e+05, 2.15616916e+03, 5.08433126e+03, 3.38497886e+03,\n",
       "       5.89766606e+02, 5.14205564e+05, 2.40931896e+03, 6.64942131e+02,\n",
       "       1.03243248e+03, 1.29221354e+03, 4.92239890e+02, 1.35783232e+06,\n",
       "       2.95181595e+03, 2.25470624e+05, 8.85985505e+02, 1.19724596e+06,\n",
       "       1.27848438e+02, 3.20308509e+04, 3.63339799e+01, 4.54695569e+03,\n",
       "       7.12496545e+04, 1.29648231e+06, 2.65219835e+06, 1.09094628e+06,\n",
       "       1.96448806e+03, 1.63183579e+06, 1.31358508e+03, 7.62504574e+05,\n",
       "       2.00304834e+06, 1.09027923e+02, 1.11242295e+04, 3.51885435e+02,\n",
       "       9.64606242e+05, 5.23792492e+04, 2.57429509e+04, 9.67662859e+02,\n",
       "       2.62370925e+04, 2.96452527e+06, 7.28382795e+04, 4.61158210e+04,\n",
       "       1.55135400e+04, 9.21924077e+01, 4.35849089e+01, 7.34001519e+05,\n",
       "       7.57870015e+03, 4.30299704e+06, 9.99589494e+03, 4.37583420e+05,\n",
       "       1.09938372e+05, 1.82527083e+03, 2.91831529e+01, 7.61598747e+03,\n",
       "       6.36015202e+01, 2.33368216e+02, 2.00991756e+01, 3.79028332e+03,\n",
       "       1.33296557e+02, 1.54088867e+03, 6.76887383e+02])"
      ]
     },
     "execution_count": 65,
     "metadata": {},
     "output_type": "execute_result"
    }
   ],
   "source": [
    "(xgb_pred + cat_pred + lgb_pred + rf_pred + gb_pred + ngb_pred) / 6"
   ]
  },
  {
   "cell_type": "code",
   "execution_count": null,
   "id": "7b5db17b",
   "metadata": {},
   "outputs": [],
   "source": []
  }
 ],
 "metadata": {
  "kernelspec": {
   "display_name": "Python 3 (ipykernel)",
   "language": "python",
   "name": "python3"
  },
  "language_info": {
   "codemirror_mode": {
    "name": "ipython",
    "version": 3
   },
   "file_extension": ".py",
   "mimetype": "text/x-python",
   "name": "python",
   "nbconvert_exporter": "python",
   "pygments_lexer": "ipython3",
   "version": "3.9.12"
  }
 },
 "nbformat": 4,
 "nbformat_minor": 5
}
